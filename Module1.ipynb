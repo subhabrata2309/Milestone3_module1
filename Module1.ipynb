{
  "nbformat": 4,
  "nbformat_minor": 0,
  "metadata": {
    "colab": {
      "provenance": []
    },
    "kernelspec": {
      "name": "python3",
      "display_name": "Python 3"
    },
    "language_info": {
      "name": "python"
    }
  },
  "cells": [
    {
      "cell_type": "markdown",
      "source": [
        " Question 1\n",
        "\n",
        "Explain the differences between AI, ML, Deep Learning (DL), and Data\n",
        "Science (DS)\n",
        "\n",
        "Answer:\n",
        "\n",
        "AI (Artificial Intelligence): Broad field of making machines simulate human intelligence (decision-making, reasoning, problem-solving).\n",
        "\n",
        "ML (Machine Learning): A subset of AI where machines learn from data instead of being explicitly programmed.\n",
        "\n",
        "DL (Deep Learning): A subset of ML that uses neural networks with many layers to handle complex tasks like image, speech, and Natural Language Processing.\n",
        "\n",
        "DS (Data Science): Field focused on extracting insights from data using statistics, ML, visualization, and domain knowledge.\n",
        "\n",
        "Question 2:\n",
        "\n",
        " What are the types of machine learning? Describe each with one\n",
        "real-world example.\n",
        "\n",
        "Answer:\n",
        "\n",
        "Supervised Learning\n",
        "\n",
        "Definition: Model learns from labeled data (input → output is known).\n",
        "\n",
        "Goal: Predict outcomes for new, unseen data.\n",
        "\n",
        "Example: Predicting house prices based on features like size, location, and number of rooms.\n",
        "\n",
        "Unsupervised Learning\n",
        "\n",
        "Definition: Model learns from unlabeled data by finding patterns or structure.\n",
        "\n",
        "Goal: Group, cluster, or reduce dimensions of data.\n",
        "\n",
        "Example: Customer segmentation in e-commerce (grouping customers by purchasing behavior).\n",
        "\n",
        "Reinforcement Learning\n",
        "\n",
        "Definition: Agent learns by interacting with an environment and receiving rewards or penalties.\n",
        "\n",
        "Goal: Maximize long-term reward by trial and error.\n",
        "\n",
        "Example: Training a self-driving car to stay in lane by rewarding safe driving actions.\n",
        "\n",
        "Question 3:\n",
        "\n",
        "Define overfitting, underfitting, and the bias-variance tradeoff in machine\n",
        "learning.\n",
        "\n",
        "Answer:\n",
        "\n",
        "Overfitting: Model learns too much detail/noise from training data → performs well on training but poorly on new data.\n",
        "\n",
        "Example: A student memorizing past exam answers instead of learning concepts.\n",
        "\n",
        "Underfitting: Model is too simple to capture the underlying patterns → performs poorly on both training and test data.\n",
        "\n",
        "Example: A student not studying enough, so they fail both practice and real exams.\n",
        "\n",
        "Bias-Variance Tradeoff:\n",
        "\n",
        "Bias: Error from oversimplifying the model (causes underfitting).\n",
        "\n",
        "Variance: Error from model being too sensitive to training data (causes overfitting).\n",
        "\n",
        "Tradeoff: Goal is to find a balance—low enough bias to learn patterns, but low enough variance to generalize well.\n",
        "\n",
        "\n",
        "Question 4:\n",
        "\n",
        " What are outliers in a dataset, and list three common techniques for\n",
        "handling them\n",
        "\n",
        "Answer:\n",
        "\n",
        "Outliers are data points that are significantly different from the majority of the dataset and may distort analysis or model performance.\n",
        "\n",
        "3 common techniques to handle outliers:\n",
        "\n",
        "Removal: Delete extreme values if they are errors or irrelevant (e.g., negative age).\n",
        "\n",
        "Transformation: Apply log, square root, or normalization to reduce their impact.\n",
        "\n",
        "Imputation/Capping: Replace with mean/median, or cap them using methods like IQR (Interquartile Range) or Winsorization.\n",
        "\n",
        "Question 5:\n",
        "\n",
        " Explain the process of handling missing values and mention one\n",
        "imputation technique for numerical and one for categorical data.\n",
        "\n",
        "Answer:\n",
        "\n",
        "Handling Missing Values – Process:\n",
        "\n",
        "Detect: Identify missing values (NaN, blanks, etc.).\n",
        "\n",
        "Analyze: Check % of missing data and whether it’s random or systematic.\n",
        "\n",
        "Decide: Drop rows/columns (if too many missing) or impute values.\n",
        "\n",
        "Imputation techniques:\n",
        "\n",
        "Numerical data: Replace with mean/median (e.g., filling missing ages with median age).\n",
        "\n",
        "Categorical data: Replace with mode (most frequent value) (e.g., filling missing gender with the most common category).\n",
        "\n"
      ],
      "metadata": {
        "id": "ire0XKH1Pdg_"
      }
    },
    {
      "cell_type": "code",
      "execution_count": 1,
      "metadata": {
        "colab": {
          "base_uri": "https://localhost:8080/"
        },
        "id": "4UQ0WRjmPcyb",
        "outputId": "0594674e-2e9d-411f-a7dc-5a5be265282c"
      },
      "outputs": [
        {
          "output_type": "stream",
          "name": "stdout",
          "text": [
            "Class distribution: Counter({np.int64(0): 895, np.int64(1): 105})\n"
          ]
        }
      ],
      "source": [
        "'''\n",
        "Question 6: Write a Python program that:\n",
        "● Creates a synthetic imbalanced dataset with make_classification() from\n",
        "sklearn.datasets.\n",
        "● Prints the class distribution.\n",
        "'''\n",
        "\n",
        "from sklearn.datasets import make_classification\n",
        "import numpy as np\n",
        "from collections import Counter\n",
        "\n",
        "X, y = make_classification(n_samples=1000, n_features=10, n_informative=2,\n",
        "                           n_redundant=0, n_clusters_per_class=1,\n",
        "                           weights=[0.9, 0.1], random_state=42)\n",
        "\n",
        "print(\"Class distribution:\", Counter(y))\n"
      ]
    },
    {
      "cell_type": "code",
      "source": [
        "'''\n",
        "Question 7: Implement one-hot encoding using pandas for the following list of colors:\n",
        "['Red', 'Green', 'Blue', 'Green', 'Red']. Print the resulting dataframe.\n",
        "'''\n",
        "\n",
        "import pandas as pd\n",
        "\n",
        "colors = ['Red', 'Green', 'Blue', 'Green', 'Red']\n",
        "\n",
        "df = pd.DataFrame(colors, columns=['Color'])\n",
        "\n",
        "one_hot = pd.get_dummies(df, columns=['Color'])\n",
        "\n",
        "print(one_hot)\n"
      ],
      "metadata": {
        "colab": {
          "base_uri": "https://localhost:8080/"
        },
        "id": "LmBS0G8kScQj",
        "outputId": "8a25fff2-84bc-4071-9473-d6589da43c78"
      },
      "execution_count": 2,
      "outputs": [
        {
          "output_type": "stream",
          "name": "stdout",
          "text": [
            "   Color_Blue  Color_Green  Color_Red\n",
            "0       False        False       True\n",
            "1       False         True      False\n",
            "2        True        False      False\n",
            "3       False         True      False\n",
            "4       False        False       True\n"
          ]
        }
      ]
    },
    {
      "cell_type": "code",
      "source": [
        "'''\n",
        "Question 8: Write a Python script to:\n",
        "● Generate 1000 samples from a normal distribution.\n",
        "● Introduce 50 random missing values.\n",
        "● Fill missing values with the column mean.\n",
        "● Plot a histogram before and after imputation\n",
        "'''\n",
        "\n",
        "import numpy as np\n",
        "import pandas as pd\n",
        "import matplotlib.pyplot as plt\n",
        "\n",
        "data = np.random.normal(loc=50, scale=10, size=1000)\n",
        "\n",
        "data[np.random.choice(1000, 50, replace=False)] = np.nan\n",
        "\n",
        "df = pd.DataFrame(data, columns=['Values'])\n",
        "\n",
        "mean_value = df['Values'].mean()\n",
        "df_filled = df.fillna(mean_value)\n",
        "\n",
        "plt.figure(figsize=(10,5))\n",
        "\n",
        "plt.subplot(1, 2, 1)\n",
        "plt.hist(df['Values'].dropna(), bins=30, edgecolor='black')\n",
        "plt.title(\"Before Imputation\")\n",
        "\n",
        "plt.subplot(1, 2, 2)\n",
        "plt.hist(df_filled['Values'], bins=30, edgecolor='black')\n",
        "plt.title(\"After Imputation\")\n",
        "\n",
        "plt.tight_layout()\n",
        "plt.show()\n"
      ],
      "metadata": {
        "colab": {
          "base_uri": "https://localhost:8080/",
          "height": 507
        },
        "id": "B8QGdKedT3Q5",
        "outputId": "f202a74c-d955-41db-882d-96249fe2b2d6"
      },
      "execution_count": 3,
      "outputs": [
        {
          "output_type": "display_data",
          "data": {
            "text/plain": [
              "<Figure size 1000x500 with 2 Axes>"
            ],
            "image/png": "[encoded data removed]"
          },
          "metadata": {}
        }
      ]
    },
    {
      "cell_type": "code",
      "source": [
        "'''\n",
        "Question 9: Implement Min-Max scaling on the following list of numbers [2, 5, 10, 15,\n",
        "20] using sklearn.preprocessing.MinMaxScaler. Print the scaled array.\n",
        "'''\n",
        "\n",
        "from sklearn.preprocessing import MinMaxScaler\n",
        "import numpy as np\n",
        "\n",
        "data = np.array([2, 5, 10, 15, 20]).reshape(-1, 1)\n",
        "\n",
        "scaler = MinMaxScaler()\n",
        "scaled_data = scaler.fit_transform(data)\n",
        "\n",
        "print(\"Scaled Data:\\n\", scaled_data)\n"
      ],
      "metadata": {
        "colab": {
          "base_uri": "https://localhost:8080/"
        },
        "id": "2UAAsqhIUlcy",
        "outputId": "264142da-dd35-4ab2-c805-85514afa60eb"
      },
      "execution_count": 4,
      "outputs": [
        {
          "output_type": "stream",
          "name": "stdout",
          "text": [
            "Scaled Data:\n",
            " [[0.        ]\n",
            " [0.16666667]\n",
            " [0.44444444]\n",
            " [0.72222222]\n",
            " [1.        ]]\n"
          ]
        }
      ]
    },
    {
      "cell_type": "code",
      "source": [
        "'''\n",
        "Question 10: You are working as a data scientist for a retail company. You receive a customer\n",
        "transaction dataset that contains:\n",
        "● Missing ages,\n",
        "● Outliers in transaction amount,\n",
        "● A highly imbalanced target (fraud vs. non-fraud),\n",
        "● Categorical variables like payment method.\n",
        "Explain the step-by-step data preparation plan you’d follow before training a machine learning\n",
        "model. Include how you’d address missing data, outliers, imbalance, and encoding.\n",
        "'''\n",
        "\n",
        "'''\n",
        "Answer:\n",
        "\n",
        "Handle Missing Data (Ages):\n",
        "\n",
        "If the percentage of missing ages is small → remove those rows.\n",
        "\n",
        "If missing values are significant → impute using:\n",
        "\n",
        "Mean/median (for numerical ages).\n",
        "\n",
        "Predictive model (e.g., regression or KNN imputer) if age correlates with other features.\n",
        "\n",
        "Treat Outliers (Transaction Amounts):\n",
        "\n",
        "Detect outliers using IQR (Interquartile Range), Z-score, or boxplots.\n",
        "\n",
        "Options to handle:\n",
        "\n",
        "Cap values at an upper/lower threshold (winsorization).\n",
        "\n",
        "Apply transformations (e.g., log scaling).\n",
        "\n",
        "Remove extreme cases if they are clear anomalies.\n",
        "\n",
        "Address Target Imbalance (Fraud vs. Non-Fraud)\n",
        "\n",
        "Use resampling techniques:\n",
        "\n",
        "Oversampling minority class (SMOTE).\n",
        "\n",
        "Undersampling majority class.\n",
        "\n",
        "Or algorithm-level methods:\n",
        "\n",
        "Use class weights in models like Logistic Regression, Random Forest, or XGBoost.\n",
        "\n",
        "Encode Categorical Variables (Payment Method, etc.)\n",
        "\n",
        "For nominal (unordered) categories → One-Hot Encoding.\n",
        "\n",
        "For ordinal (ordered) categories → Label Encoding or custom mapping.\n",
        "\n",
        "Consider frequency encoding if too many categories exist.\n",
        "\n",
        "Feature Scaling (if required by model)\n",
        "\n",
        "Apply StandardScaler or MinMaxScaler for distance-based models (e.g., KNN, SVM).\n",
        "\n",
        "Final Preparation\n",
        "\n",
        "Split into train/test sets.\n",
        "\n",
        "Perform feature selection if needed.\n",
        "\n",
        "Ensure pipeline is consistent to avoid data leakage.\n",
        "'''\n",
        "\n",
        "import pandas as pd\n",
        "import numpy as np\n",
        "from sklearn.impute import KNNImputer\n",
        "from sklearn.preprocessing import StandardScaler, OneHotEncoder\n",
        "from sklearn.model_selection import train_test_split\n",
        "from sklearn.compose import ColumnTransformer\n",
        "from sklearn.pipeline import Pipeline\n",
        "from imblearn.over_sampling import SMOTE\n",
        "\n",
        "df = pd.read_csv(\"transactions.csv\")\n",
        "\n",
        "imputer = KNNImputer(n_neighbors=5)\n",
        "df[['Age']] = imputer.fit_transform(df[['Age']])\n",
        "\n",
        "Q1 = df['TransactionAmount'].quantile(0.25)\n",
        "Q3 = df['TransactionAmount'].quantile(0.75)\n",
        "IQR = Q3 - Q1\n",
        "lower = Q1 - 1.5 * IQR\n",
        "upper = Q3 + 1.5 * IQR\n",
        "df['TransactionAmount'] = np.where(df['TransactionAmount'] > upper, upper,\n",
        "                                   np.where(df['TransactionAmount'] < lower, lower, df['TransactionAmount']))\n",
        "\n",
        "categorical_cols = ['PaymentMethod']\n",
        "numeric_cols = ['Age', 'TransactionAmount']\n",
        "\n",
        "preprocessor = ColumnTransformer(\n",
        "    transformers=[\n",
        "        ('num', StandardScaler(), numeric_cols),\n",
        "        ('cat', OneHotEncoder(handle_unknown='ignore'), categorical_cols)\n",
        "    ])\n",
        "\n",
        "X = df.drop('Fraud', axis=1)\n",
        "y = df['Fraud']\n",
        "\n",
        "X_train, X_test, y_train, y_test = train_test_split(X, y, test_size=0.2, stratify=y, random_state=42)\n",
        "\n",
        "smote = SMOTE(random_state=42)\n",
        "X_train_res, y_train_res = smote.fit_resample(X_train, y_train)\n",
        "\n",
        "from sklearn.linear_model import LogisticRegression\n",
        "\n",
        "pipeline = Pipeline(steps=[\n",
        "    ('preprocessor', preprocessor),\n",
        "    ('model', LogisticRegression(class_weight='balanced', random_state=42))\n",
        "])\n",
        "\n",
        "pipeline.fit(X_train_res, y_train_res)\n",
        "\n",
        "print(\"Model trained and ready!\")\n"
      ],
      "metadata": {
        "colab": {
          "base_uri": "https://localhost:8080/",
          "height": 370
        },
        "id": "BKgDAHh5U2fn",
        "outputId": "23275631-8ca1-490e-d0ee-2050707bc0f4"
      },
      "execution_count": 6,
      "outputs": [
        {
          "output_type": "error",
          "ename": "FileNotFoundError",
          "evalue": "[Errno 2] No such file or directory: 'transactions.csv'",
          "traceback": [
            "\u001b[0;31m---------------------------------------------------------------------------\u001b[0m",
            "\u001b[0;31mFileNotFoundError\u001b[0m                         Traceback (most recent call last)",
            "\u001b[0;32m/tmp/ipython-input-2518473966.py\u001b[0m in \u001b[0;36m<cell line: 0>\u001b[0;34m()\u001b[0m\n\u001b[1;32m     78\u001b[0m \u001b[0;34m\u001b[0m\u001b[0m\n\u001b[1;32m     79\u001b[0m \u001b[0;31m# Example: Load dataset\u001b[0m\u001b[0;34m\u001b[0m\u001b[0;34m\u001b[0m\u001b[0m\n\u001b[0;32m---> 80\u001b[0;31m \u001b[0mdf\u001b[0m \u001b[0;34m=\u001b[0m \u001b[0mpd\u001b[0m\u001b[0;34m.\u001b[0m\u001b[0mread_csv\u001b[0m\u001b[0;34m(\u001b[0m\u001b[0;34m\"transactions.csv\"\u001b[0m\u001b[0;34m)\u001b[0m\u001b[0;34m\u001b[0m\u001b[0;34m\u001b[0m\u001b[0m\n\u001b[0m\u001b[1;32m     81\u001b[0m \u001b[0;34m\u001b[0m\u001b[0m\n\u001b[1;32m     82\u001b[0m \u001b[0;31m# 1. Handle Missing Data (Age)\u001b[0m\u001b[0;34m\u001b[0m\u001b[0;34m\u001b[0m\u001b[0m\n",
            "\u001b[0;32m/usr/local/lib/python3.12/dist-packages/pandas/io/parsers/readers.py\u001b[0m in \u001b[0;36mread_csv\u001b[0;34m(filepath_or_buffer, sep, delimiter, header, names, index_col, usecols, dtype, engine, converters, true_values, false_values, skipinitialspace, skiprows, skipfooter, nrows, na_values, keep_default_na, na_filter, verbose, skip_blank_lines, parse_dates, infer_datetime_format, keep_date_col, date_parser, date_format, dayfirst, cache_dates, iterator, chunksize, compression, thousands, decimal, lineterminator, quotechar, quoting, doublequote, escapechar, comment, encoding, encoding_errors, dialect, on_bad_lines, delim_whitespace, low_memory, memory_map, float_precision, storage_options, dtype_backend)\u001b[0m\n\u001b[1;32m   1024\u001b[0m     \u001b[0mkwds\u001b[0m\u001b[0;34m.\u001b[0m\u001b[0mupdate\u001b[0m\u001b[0;34m(\u001b[0m\u001b[0mkwds_defaults\u001b[0m\u001b[0;34m)\u001b[0m\u001b[0;34m\u001b[0m\u001b[0;34m\u001b[0m\u001b[0m\n\u001b[1;32m   1025\u001b[0m \u001b[0;34m\u001b[0m\u001b[0m\n\u001b[0;32m-> 1026\u001b[0;31m     \u001b[0;32mreturn\u001b[0m \u001b[0m_read\u001b[0m\u001b[0;34m(\u001b[0m\u001b[0mfilepath_or_buffer\u001b[0m\u001b[0;34m,\u001b[0m \u001b[0mkwds\u001b[0m\u001b[0;34m)\u001b[0m\u001b[0;34m\u001b[0m\u001b[0;34m\u001b[0m\u001b[0m\n\u001b[0m\u001b[1;32m   1027\u001b[0m \u001b[0;34m\u001b[0m\u001b[0m\n\u001b[1;32m   1028\u001b[0m \u001b[0;34m\u001b[0m\u001b[0m\n",
            "\u001b[0;32m/usr/local/lib/python3.12/dist-packages/pandas/io/parsers/readers.py\u001b[0m in \u001b[0;36m_read\u001b[0;34m(filepath_or_buffer, kwds)\u001b[0m\n\u001b[1;32m    618\u001b[0m \u001b[0;34m\u001b[0m\u001b[0m\n\u001b[1;32m    619\u001b[0m     \u001b[0;31m# Create the parser.\u001b[0m\u001b[0;34m\u001b[0m\u001b[0;34m\u001b[0m\u001b[0m\n\u001b[0;32m--> 620\u001b[0;31m     \u001b[0mparser\u001b[0m \u001b[0;34m=\u001b[0m \u001b[0mTextFileReader\u001b[0m\u001b[0;34m(\u001b[0m\u001b[0mfilepath_or_buffer\u001b[0m\u001b[0;34m,\u001b[0m \u001b[0;34m**\u001b[0m\u001b[0mkwds\u001b[0m\u001b[0;34m)\u001b[0m\u001b[0;34m\u001b[0m\u001b[0;34m\u001b[0m\u001b[0m\n\u001b[0m\u001b[1;32m    621\u001b[0m \u001b[0;34m\u001b[0m\u001b[0m\n\u001b[1;32m    622\u001b[0m     \u001b[0;32mif\u001b[0m \u001b[0mchunksize\u001b[0m \u001b[0;32mor\u001b[0m \u001b[0miterator\u001b[0m\u001b[0;34m:\u001b[0m\u001b[0;34m\u001b[0m\u001b[0;34m\u001b[0m\u001b[0m\n",
            "\u001b[0;32m/usr/local/lib/python3.12/dist-packages/pandas/io/parsers/readers.py\u001b[0m in \u001b[0;36m__init__\u001b[0;34m(self, f, engine, **kwds)\u001b[0m\n\u001b[1;32m   1618\u001b[0m \u001b[0;34m\u001b[0m\u001b[0m\n\u001b[1;32m   1619\u001b[0m         \u001b[0mself\u001b[0m\u001b[0;34m.\u001b[0m\u001b[0mhandles\u001b[0m\u001b[0;34m:\u001b[0m \u001b[0mIOHandles\u001b[0m \u001b[0;34m|\u001b[0m \u001b[0;32mNone\u001b[0m \u001b[0;34m=\u001b[0m \u001b[0;32mNone\u001b[0m\u001b[0;34m\u001b[0m\u001b[0;34m\u001b[0m\u001b[0m\n\u001b[0;32m-> 1620\u001b[0;31m         \u001b[0mself\u001b[0m\u001b[0;34m.\u001b[0m\u001b[0m_engine\u001b[0m \u001b[0;34m=\u001b[0m \u001b[0mself\u001b[0m\u001b[0;34m.\u001b[0m\u001b[0m_make_engine\u001b[0m\u001b[0;34m(\u001b[0m\u001b[0mf\u001b[0m\u001b[0;34m,\u001b[0m \u001b[0mself\u001b[0m\u001b[0;34m.\u001b[0m\u001b[0mengine\u001b[0m\u001b[0;34m)\u001b[0m\u001b[0;34m\u001b[0m\u001b[0;34m\u001b[0m\u001b[0m\n\u001b[0m\u001b[1;32m   1621\u001b[0m \u001b[0;34m\u001b[0m\u001b[0m\n\u001b[1;32m   1622\u001b[0m     \u001b[0;32mdef\u001b[0m \u001b[0mclose\u001b[0m\u001b[0;34m(\u001b[0m\u001b[0mself\u001b[0m\u001b[0;34m)\u001b[0m \u001b[0;34m->\u001b[0m \u001b[0;32mNone\u001b[0m\u001b[0;34m:\u001b[0m\u001b[0;34m\u001b[0m\u001b[0;34m\u001b[0m\u001b[0m\n",
            "\u001b[0;32m/usr/local/lib/python3.12/dist-packages/pandas/io/parsers/readers.py\u001b[0m in \u001b[0;36m_make_engine\u001b[0;34m(self, f, engine)\u001b[0m\n\u001b[1;32m   1878\u001b[0m                 \u001b[0;32mif\u001b[0m \u001b[0;34m\"b\"\u001b[0m \u001b[0;32mnot\u001b[0m \u001b[0;32min\u001b[0m \u001b[0mmode\u001b[0m\u001b[0;34m:\u001b[0m\u001b[0;34m\u001b[0m\u001b[0;34m\u001b[0m\u001b[0m\n\u001b[1;32m   1879\u001b[0m                     \u001b[0mmode\u001b[0m \u001b[0;34m+=\u001b[0m \u001b[0;34m\"b\"\u001b[0m\u001b[0;34m\u001b[0m\u001b[0;34m\u001b[0m\u001b[0m\n\u001b[0;32m-> 1880\u001b[0;31m             self.handles = get_handle(\n\u001b[0m\u001b[1;32m   1881\u001b[0m                 \u001b[0mf\u001b[0m\u001b[0;34m,\u001b[0m\u001b[0;34m\u001b[0m\u001b[0;34m\u001b[0m\u001b[0m\n\u001b[1;32m   1882\u001b[0m                 \u001b[0mmode\u001b[0m\u001b[0;34m,\u001b[0m\u001b[0;34m\u001b[0m\u001b[0;34m\u001b[0m\u001b[0m\n",
            "\u001b[0;32m/usr/local/lib/python3.12/dist-packages/pandas/io/common.py\u001b[0m in \u001b[0;36mget_handle\u001b[0;34m(path_or_buf, mode, encoding, compression, memory_map, is_text, errors, storage_options)\u001b[0m\n\u001b[1;32m    871\u001b[0m         \u001b[0;32mif\u001b[0m \u001b[0mioargs\u001b[0m\u001b[0;34m.\u001b[0m\u001b[0mencoding\u001b[0m \u001b[0;32mand\u001b[0m \u001b[0;34m\"b\"\u001b[0m \u001b[0;32mnot\u001b[0m \u001b[0;32min\u001b[0m \u001b[0mioargs\u001b[0m\u001b[0;34m.\u001b[0m\u001b[0mmode\u001b[0m\u001b[0;34m:\u001b[0m\u001b[0;34m\u001b[0m\u001b[0;34m\u001b[0m\u001b[0m\n\u001b[1;32m    872\u001b[0m             \u001b[0;31m# Encoding\u001b[0m\u001b[0;34m\u001b[0m\u001b[0;34m\u001b[0m\u001b[0m\n\u001b[0;32m--> 873\u001b[0;31m             handle = open(\n\u001b[0m\u001b[1;32m    874\u001b[0m                 \u001b[0mhandle\u001b[0m\u001b[0;34m,\u001b[0m\u001b[0;34m\u001b[0m\u001b[0;34m\u001b[0m\u001b[0m\n\u001b[1;32m    875\u001b[0m                 \u001b[0mioargs\u001b[0m\u001b[0;34m.\u001b[0m\u001b[0mmode\u001b[0m\u001b[0;34m,\u001b[0m\u001b[0;34m\u001b[0m\u001b[0;34m\u001b[0m\u001b[0m\n",
            "\u001b[0;31mFileNotFoundError\u001b[0m: [Errno 2] No such file or directory: 'transactions.csv'"
          ]
        }
      ]
    },
    {
      "cell_type": "code",
      "source": [],
      "metadata": {
        "id": "2hnda3A5YA-4"
      },
      "execution_count": null,
      "outputs": []
    }
  ]
}